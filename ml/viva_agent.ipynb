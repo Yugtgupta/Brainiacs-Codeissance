{
 "cells": [
  {
   "cell_type": "code",
   "execution_count": 1,
   "metadata": {},
   "outputs": [],
   "source": [
    "from dotenv import load_dotenv\n",
    "load_dotenv()\n",
    "import os\n",
    "from langchain_openai import ChatOpenAI\n",
    "from langchain_core.prompts import ChatPromptTemplate\n",
    "from langchain.vectorstores import FAISS\n",
    "from PyPDF2 import PdfReader"
   ]
  },
  {
   "cell_type": "code",
   "execution_count": 2,
   "metadata": {},
   "outputs": [],
   "source": [
    "OPENAI_API_KEY = os.getenv(\"OPENAI_API_KEY\")"
   ]
  },
  {
   "cell_type": "code",
   "execution_count": 3,
   "metadata": {},
   "outputs": [],
   "source": [
    "def get_pdf_text(pdf_docs):\n",
    "    text = \" \"\n",
    "    for pdf in pdf_docs:\n",
    "        reader = PdfReader(pdf)\n",
    "        for page in reader.pages:\n",
    "            text += page.extract_text()\n",
    "    return text\n"
   ]
  },
  {
   "cell_type": "code",
   "execution_count": 4,
   "metadata": {},
   "outputs": [],
   "source": [
    "from langchain.text_splitter import CharacterTextSplitter\n",
    "\n",
    "def get_text_chunks(text):\n",
    "    text_splitter = CharacterTextSplitter(\n",
    "        separator=\"\\n\",\n",
    "        chunk_size=1000,\n",
    "        chunk_overlap=200,\n",
    "        length_function=len\n",
    "    )\n",
    "    chunks = text_splitter.split_text(text)\n",
    "    return chunks"
   ]
  },
  {
   "cell_type": "code",
   "execution_count": 5,
   "metadata": {},
   "outputs": [],
   "source": [
    "from langchain_openai import OpenAIEmbeddings\n",
    "def get_vectorstore(text_chunks):\n",
    "    embeddings = OpenAIEmbeddings(api_key=OPENAI_API_KEY)\n",
    "    vectorstore = FAISS.from_texts(texts=text_chunks, embedding=embeddings)\n",
    "    return vectorstore\n"
   ]
  },
  {
   "cell_type": "code",
   "execution_count": 6,
   "metadata": {},
   "outputs": [],
   "source": [
    "from langchain_openai import ChatOpenAI\n",
    "from langchain_core.prompts import ChatPromptTemplate\n",
    "from langchain.chains import ConversationalRetrievalChain"
   ]
  },
  {
   "cell_type": "code",
   "execution_count": 7,
   "metadata": {},
   "outputs": [],
   "source": [
    "from langchain.memory import ConversationBufferMemory\n",
    "def get_conversation_chain(vectorstore):\n",
    "    llm = ChatOpenAI(api_key=OPENAI_API_KEY)\n",
    "    memory = ConversationBufferMemory(memory_key = 'chat_history',return_messages = True)\n",
    "    conversation_chain = ConversationalRetrievalChain.from_llm(\n",
    "        llm=llm,\n",
    "        retriever=vectorstore.as_retriever(),\n",
    "        memory=memory\n",
    "    )\n",
    "    return conversation_chain"
   ]
  },
  {
   "cell_type": "code",
   "execution_count": 8,
   "metadata": {},
   "outputs": [],
   "source": [
    "raw_text = get_pdf_text([\"history.pdf\"])\n",
    "text_chunks= get_text_chunks(raw_text)"
   ]
  },
  {
   "cell_type": "code",
   "execution_count": 9,
   "metadata": {},
   "outputs": [],
   "source": [
    "vectorstore= get_vectorstore(text_chunks)"
   ]
  },
  {
   "cell_type": "code",
   "execution_count": 10,
   "metadata": {},
   "outputs": [
    {
     "name": "stderr",
     "output_type": "stream",
     "text": [
      "C:\\Users\\yugtg\\AppData\\Local\\Temp\\ipykernel_5260\\3645849294.py:4: LangChainDeprecationWarning: Please see the migration guide at: https://python.langchain.com/docs/versions/migrating_memory/\n",
      "  memory = ConversationBufferMemory(memory_key = 'chat_history',return_messages = True)\n"
     ]
    }
   ],
   "source": [
    "conversation =  get_conversation_chain(vectorstore)"
   ]
  },
  {
   "cell_type": "code",
   "execution_count": 11,
   "metadata": {},
   "outputs": [
    {
     "name": "stderr",
     "output_type": "stream",
     "text": [
      "C:\\Users\\yugtg\\AppData\\Local\\Temp\\ipykernel_5260\\832767136.py:1: LangChainDeprecationWarning: The method `Chain.__call__` was deprecated in langchain 0.1.0 and will be removed in 1.0. Use :meth:`~invoke` instead.\n",
      "  conversation({'question' : \"who is fredric sorrieu?\"})\n"
     ]
    },
    {
     "data": {
      "text/plain": [
       "{'question': 'who is fredric sorrieu?',\n",
       " 'chat_history': [HumanMessage(content='who is fredric sorrieu?', additional_kwargs={}, response_metadata={}),\n",
       "  AIMessage(content=\"Frédéric Sorrieu was a French artist who created a series of four prints visualizing his dream of a world made up of 'democratic and social Republics'.\", additional_kwargs={}, response_metadata={})],\n",
       " 'answer': \"Frédéric Sorrieu was a French artist who created a series of four prints visualizing his dream of a world made up of 'democratic and social Republics'.\"}"
      ]
     },
     "execution_count": 11,
     "metadata": {},
     "output_type": "execute_result"
    }
   ],
   "source": [
    "conversation({'question' : \"who is fredric sorrieu?\"})"
   ]
  },
  {
   "cell_type": "code",
   "execution_count": 12,
   "metadata": {},
   "outputs": [
    {
     "data": {
      "text/plain": [
       "{'question': 'what is his significance?',\n",
       " 'chat_history': [HumanMessage(content='who is fredric sorrieu?', additional_kwargs={}, response_metadata={}),\n",
       "  AIMessage(content=\"Frédéric Sorrieu was a French artist who created a series of four prints visualizing his dream of a world made up of 'democratic and social Republics'.\", additional_kwargs={}, response_metadata={}),\n",
       "  HumanMessage(content='what is his significance?', additional_kwargs={}, response_metadata={}),\n",
       "  AIMessage(content=\"Frédéric Sorrieu was a French artist who created a series of four prints visualizing his dream of a world made up of 'democratic and social Republics'. His work depicted a utopian vision where the peoples of Europe and America were shown marching in a long train, paying homage to the statue of Liberty. Sorrieu's artwork symbolized fraternity among nations and highlighted the aspirations for democratic and social republics. His work is significant for reflecting the ideals of nationalism and the emergence of nation-states in Europe during the 19th century.\", additional_kwargs={}, response_metadata={})],\n",
       " 'answer': \"Frédéric Sorrieu was a French artist who created a series of four prints visualizing his dream of a world made up of 'democratic and social Republics'. His work depicted a utopian vision where the peoples of Europe and America were shown marching in a long train, paying homage to the statue of Liberty. Sorrieu's artwork symbolized fraternity among nations and highlighted the aspirations for democratic and social republics. His work is significant for reflecting the ideals of nationalism and the emergence of nation-states in Europe during the 19th century.\"}"
      ]
     },
     "execution_count": 12,
     "metadata": {},
     "output_type": "execute_result"
    }
   ],
   "source": [
    "conversation({'question' : \"what is his significance?\"})"
   ]
  },
  {
   "cell_type": "code",
   "execution_count": 13,
   "metadata": {},
   "outputs": [],
   "source": [
    "#Approach 2\n",
    "from langchain_openai import ChatOpenAI\n",
    "from langchain.chains.combine_documents import create_stuff_documents_chain\n",
    "from langchain.chains import create_retrieval_chain\n",
    "\n",
    "llm = ChatOpenAI(api_key=OPENAI_API_KEY, temperature=0)\n",
    "prompt = ChatPromptTemplate.from_template(\"\"\"\n",
    "Retreive all the data from the pdfs and answer strictly according to the data in the pdfs.\n",
    "You are an expert at creating viva questions for students based on the content of the pdfs.\n",
    "Create 5 viva questions based on important concepts of the input pdfs and user's difficulty level which is given as input\n",
    "Generate both question and answer for each question which will be used to compare with the user's answers.\n",
    "Give the answer in the form of a dictionary as question : answer for all the 5 questions.\n",
    "\n",
    "\n",
    "<context>\n",
    "{context}\n",
    "</context>\n",
    "\n",
    "Question: Give me viva questions on  difficulty level-{input} based on the content of the pdfs.\"\"\")\n",
    "\n",
    "document_chain = create_stuff_documents_chain(llm, prompt)\n",
    "\n",
    "retriever = vectorstore.as_retriever()\n",
    "retrieval_chain = create_retrieval_chain(retriever, document_chain)\n",
    "\n",
    "#example input-to be replaced with a summary generated by the llm of the user profile\n",
    "\n",
    "difficulty_level = \"easy\"\n",
    "\n",
    "\n"
   ]
  },
  {
   "cell_type": "code",
   "execution_count": 14,
   "metadata": {},
   "outputs": [],
   "source": [
    "import json\n",
    "def call_llm(difficulty_level):\n",
    "    response = retrieval_chain.invoke({\"input\": \"{difficulty_level}\"})\n",
    "    data_dict = json.loads(response[\"answer\"])\n",
    "\n",
    "    # Initialize the new dictionary structure\n",
    "    qa_dict = {}\n",
    "\n",
    "    # Iterate over the keys and values to restructure the dictionary\n",
    "    for i in range(1, 6):\n",
    "        qa_dict[i] = {\n",
    "            \"question\": data_dict[f\"Question {i}\"],\n",
    "            \"answer\": data_dict[f\"Answer {i}\"]\n",
    "        }\n",
    "    return qa_dict"
   ]
  },
  {
   "cell_type": "code",
   "execution_count": 19,
   "metadata": {},
   "outputs": [
    {
     "data": {
      "text/plain": [
       "{1: {'question': \"Explain the impact of Napoleon's administrative measures on the German-speaking regions in the first half of the nineteenth century.\",\n",
       "  'answer': \"Napoleon's administrative measures created a confederation of 39 states out of countless small principalities in the German-speaking regions. Each state had its own currency, weights, and measures, leading to customs barriers and duties for merchants traveling through the region.\"},\n",
       " 2: {'question': 'Discuss the initial reactions of local populations to French rule in areas conquered by Napoleon.',\n",
       "  'answer': 'Initially, in places like Holland, Switzerland, Brussels, Mainz, Milan, and Warsaw, the French armies were welcomed as symbols of liberty. However, the enthusiasm turned to hostility as increased taxation, censorship, and forced conscription overshadowed the administrative changes.'},\n",
       " 3: {'question': 'What were the economic hardships faced in Europe during the 1830s and the first half of the nineteenth century?',\n",
       "  'answer': 'The 1830s saw economic hardship in Europe due to population growth, job scarcity, migration to overcrowded cities, competition from cheap machine-made goods from England, feudal dues on peasants, and food shortages leading to pauperism.'},\n",
       " 4: {'question': 'Explain the significance of language and popular traditions in the creation of national identity.',\n",
       "  'answer': 'Language and popular traditions played a crucial role in creating national identity by symbolizing the struggle against dominance, fostering a sense of unity among the population, and preserving cultural heritage.'},\n",
       " 5: {'question': 'Describe the events of the year 1848 in Europe and the impact on the political landscape.',\n",
       "  'answer': 'The year 1848 saw food shortages, unemployment, and widespread unrest in Europe, leading to the population of Paris taking to the streets, erecting barricades, and forcing Louis Philippe to flee. The National Assembly proclaimed a Republic, granted suffrage to adult males, and set up national workshops for employment.'}}"
      ]
     },
     "execution_count": 19,
     "metadata": {},
     "output_type": "execute_result"
    }
   ],
   "source": [
    "qa_dict= call_llm(difficulty_level)\n",
    "qa_dict"
   ]
  },
  {
   "cell_type": "code",
   "execution_count": 16,
   "metadata": {},
   "outputs": [
    {
     "data": {
      "text/plain": [
       "'Language and popular traditions played a crucial role in the creation of national identity during the nineteenth century, as seen in the use of Polish as a symbol of resistance against Russian dominance and the importance of national languages in asserting cultural identity.'"
      ]
     },
     "execution_count": 16,
     "metadata": {},
     "output_type": "execute_result"
    }
   ],
   "source": [
    "qa_dict[4].get(\"answer\") #to obtain answer"
   ]
  },
  {
   "cell_type": "code",
   "execution_count": 17,
   "metadata": {},
   "outputs": [
    {
     "name": "stderr",
     "output_type": "stream",
     "text": [
      "c:\\Users\\yugtg\\Desktop\\Brainiacs\\Brainiacs-Codeissance\\.venv\\Lib\\site-packages\\sentence_transformers\\cross_encoder\\CrossEncoder.py:13: TqdmWarning: IProgress not found. Please update jupyter and ipywidgets. See https://ipywidgets.readthedocs.io/en/stable/user_install.html\n",
      "  from tqdm.autonotebook import tqdm, trange\n",
      "[nltk_data] Downloading package punkt to\n",
      "[nltk_data]     C:\\Users\\yugtg\\AppData\\Roaming\\nltk_data...\n",
      "[nltk_data]   Package punkt is already up-to-date!\n",
      "c:\\Users\\yugtg\\Desktop\\Brainiacs\\Brainiacs-Codeissance\\.venv\\Lib\\site-packages\\transformers\\tokenization_utils_base.py:1617: FutureWarning: `clean_up_tokenization_spaces` was not set. It will be set to `True` by default. This behavior will be deprecated in transformers v4.45, and will be then set to `False` by default. For more details check this issue: https://github.com/huggingface/transformers/issues/31884\n",
      "  warnings.warn(\n"
     ]
    },
    {
     "name": "stdout",
     "output_type": "stream",
     "text": [
      "{'literal_score': '19.44%', 'semantic_score': '67.29%'}\n"
     ]
    }
   ],
   "source": [
    "import nltk\n",
    "from nltk.tokenize import word_tokenize\n",
    "from sklearn.metrics import jaccard_score\n",
    "from sentence_transformers import SentenceTransformer, util\n",
    "\n",
    "# Download NLTK tokenizer resources\n",
    "nltk.download('punkt')\n",
    "\n",
    "# Model's generated answer (RAG answer)\n",
    "model_answer = \"Language and popular traditions played a crucial role in the creation of national identity by symbolizing resistance against dominant powers. The use of Polish, for example, became a symbol of struggle against Russian dominance.\"\n",
    "\n",
    "# User's answer\n",
    "# user_answer = \"Language and traditions were key in forming national identity, especially in resisting powers like Russia, where Polish became a symbol of resistance.\"\n",
    "user_answer = \"Language and traditions were key in forming and resisting identity example using polish\"\n",
    "# Step 1: Calculate Literal Score (Jaccard Similarity)\n",
    "def calculate_literal_score(model_ans, user_ans):\n",
    "    # Tokenize answers\n",
    "    model_tokens = set(word_tokenize(model_ans.lower()))\n",
    "    user_tokens = set(word_tokenize(user_ans.lower()))\n",
    "\n",
    "    # Calculate Jaccard Similarity\n",
    "    intersection = model_tokens.intersection(user_tokens)\n",
    "    union = model_tokens.union(user_tokens)\n",
    "    literal_score = len(intersection) / len(union) * 100  # In percentage\n",
    "    return literal_score\n",
    "\n",
    "# Step 2: Calculate Semantic Score (Cosine Similarity of Embeddings)\n",
    "def calculate_semantic_score(model_ans, user_ans):\n",
    "    # Load pre-trained model for embeddings\n",
    "    model = SentenceTransformer('all-MiniLM-L6-v2')\n",
    "\n",
    "    # Get sentence embeddings\n",
    "    model_embedding = model.encode(model_ans, convert_to_tensor=True)\n",
    "    user_embedding = model.encode(user_ans, convert_to_tensor=True)\n",
    "\n",
    "    # Calculate cosine similarity\n",
    "    semantic_score = util.pytorch_cos_sim(model_embedding, user_embedding).item() * 100  # In percentage\n",
    "    return semantic_score\n",
    "\n",
    "# Generate the report\n",
    "def generate_comparison_report(model_ans, user_ans):\n",
    "    literal_score = calculate_literal_score(model_ans, user_ans)\n",
    "    semantic_score = calculate_semantic_score(model_ans, user_ans)\n",
    "\n",
    "    report = {\n",
    "        \"literal_score\": f\"{literal_score:.2f}%\",\n",
    "        \"semantic_score\": f\"{semantic_score:.2f}%\"\n",
    "    }\n",
    "\n",
    "    return report\n",
    "\n",
    "# Generate and print report\n",
    "report = generate_comparison_report(model_answer, user_answer)\n",
    "print(report)\n"
   ]
  },
  {
   "cell_type": "code",
   "execution_count": 1,
   "metadata": {},
   "outputs": [
    {
     "data": {
      "text/plain": [
       "'What were some of the advantages that businessmen and small-scale producers in Europe realized would facilitate the movement and exchange of goods and capital?'"
      ]
     },
     "execution_count": 1,
     "metadata": {},
     "output_type": "execute_result"
    }
   ],
   "source": [
    "qa_dict= {\n",
    "    \"Question 1\": \"What were some of the advantages that businessmen and small-scale producers in Europe realized would facilitate the movement and exchange of goods and capital?\",\n",
    "    \"Answer 1\": \"Uniform laws, standardized weights and measures, and a common national currency.\",\n",
    "    \"Question 2\": \"How did the local populations in areas conquered by the French initially react to French rule?\",     \n",
    "    \"Answer 2\": \"In many places such as Holland and Switzerland, as well as in certain cities like Brussels, Mainz, Milan, and Warsaw, the French armies were welcomed as harbingers of liberty.\",\n",
    "    \"Question 3\": \"What were some of the grievances of the weavers in a Silesian village as described by journalist Wilhelm Wolff?\",\n",
    "    \"Answer 3\": \"The contractors drastically reduced payments for finished textiles, leading to extreme misery among the workers.\",\n",
    "    \"Question 4\": \"What issue of injustice was highlighted in the anonymous letter sent to the editor in 1850?\",        \n",
    "    \"Answer 4\": \"The denial of political rights to women despite their contributions and responsibilities in society.\", \n",
    "    \"Question 5\": \"What new word is defined as awareness of women's rights and interests based on the belief of social, economic, and political equality of the genders?\",\n",
    "    \"Answer 5\": \"Feminist.\"\n",
    "}\n",
    "\n",
    "qa_dict.get(\"Question 1\")"
   ]
  },
  {
   "cell_type": "code",
   "execution_count": null,
   "metadata": {},
   "outputs": [],
   "source": []
  }
 ],
 "metadata": {
  "kernelspec": {
   "display_name": ".venv",
   "language": "python",
   "name": "python3"
  },
  "language_info": {
   "codemirror_mode": {
    "name": "ipython",
    "version": 3
   },
   "file_extension": ".py",
   "mimetype": "text/x-python",
   "name": "python",
   "nbconvert_exporter": "python",
   "pygments_lexer": "ipython3",
   "version": "3.11.3"
  }
 },
 "nbformat": 4,
 "nbformat_minor": 2
}
